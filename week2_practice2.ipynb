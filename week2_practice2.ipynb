{
 "cells": [
  {
   "cell_type": "code",
   "execution_count": 1,
   "id": "d2b91ae2",
   "metadata": {},
   "outputs": [],
   "source": [
    "import cv2"
   ]
  },
  {
   "cell_type": "code",
   "execution_count": 2,
   "id": "941c19d6",
   "metadata": {},
   "outputs": [],
   "source": [
    "image1 = cv2.imread('img/download.jpg')"
   ]
  },
  {
   "cell_type": "code",
   "execution_count": 3,
   "id": "f0a60a84",
   "metadata": {},
   "outputs": [],
   "source": [
    "image2 = cv2.imread('img/cookies.jpg')"
   ]
  },
  {
   "cell_type": "code",
   "execution_count": 4,
   "id": "8a6ab542",
   "metadata": {},
   "outputs": [],
   "source": [
    "image1 = cv2.resize( image1, (500,400))\n",
    "image2 = cv2.resize( image2, (500,400))"
   ]
  },
  {
   "cell_type": "code",
   "execution_count": 5,
   "id": "85185adc",
   "metadata": {},
   "outputs": [],
   "source": [
    "addImage = cv2.addWeighted(image1,0.5,image2,0.6,0)"
   ]
  },
  {
   "cell_type": "code",
   "execution_count": 6,
   "id": "f083e496",
   "metadata": {},
   "outputs": [],
   "source": [
    "cv2.imshow('Weighted Image',addImage)"
   ]
  },
  {
   "cell_type": "code",
   "execution_count": null,
   "id": "9345dca0",
   "metadata": {},
   "outputs": [],
   "source": [
    "if cv2.waitKey(0) & 0xff == 27:\n",
    "    cv2.destroyAllWindows()"
   ]
  },
  {
   "cell_type": "code",
   "execution_count": null,
   "id": "7a98cd32",
   "metadata": {},
   "outputs": [],
   "source": []
  }
 ],
 "metadata": {
  "kernelspec": {
   "display_name": "Python 3 (ipykernel)",
   "language": "python",
   "name": "python3"
  },
  "language_info": {
   "codemirror_mode": {
    "name": "ipython",
    "version": 3
   },
   "file_extension": ".py",
   "mimetype": "text/x-python",
   "name": "python",
   "nbconvert_exporter": "python",
   "pygments_lexer": "ipython3",
   "version": "3.9.12"
  }
 },
 "nbformat": 4,
 "nbformat_minor": 5
}
