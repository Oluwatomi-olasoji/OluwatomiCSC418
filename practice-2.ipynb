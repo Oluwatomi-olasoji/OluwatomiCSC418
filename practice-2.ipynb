{
 "cells": [
  {
   "cell_type": "code",
   "execution_count": 1,
   "id": "136eb993",
   "metadata": {},
   "outputs": [],
   "source": [
    "import cv2"
   ]
  },
  {
   "cell_type": "code",
   "execution_count": 2,
   "id": "366fe8f3",
   "metadata": {},
   "outputs": [],
   "source": [
    "path = 'img/download.jpg'"
   ]
  },
  {
   "cell_type": "code",
   "execution_count": 3,
   "id": "f872104b",
   "metadata": {},
   "outputs": [],
   "source": [
    "img = cv2.imread(path,0)"
   ]
  },
  {
   "cell_type": "markdown",
   "id": "17e62c17",
   "metadata": {},
   "source": [
    "the above read the image in grayscale mode"
   ]
  },
  {
   "cell_type": "code",
   "execution_count": 4,
   "id": "76a6f13a",
   "metadata": {},
   "outputs": [],
   "source": [
    "window_name = 'album covers in grayscale'"
   ]
  },
  {
   "cell_type": "code",
   "execution_count": 7,
   "id": "7bf71b01",
   "metadata": {},
   "outputs": [
    {
     "data": {
      "text/plain": [
       "-1"
      ]
     },
     "execution_count": 7,
     "metadata": {},
     "output_type": "execute_result"
    }
   ],
   "source": [
    "cv2.imshow(window_name, img)\n",
    "cv2.waitKey(0)"
   ]
  },
  {
   "cell_type": "markdown",
   "id": "59f79421",
   "metadata": {},
   "source": [
    "the above displayes and then retains the window"
   ]
  },
  {
   "cell_type": "code",
   "execution_count": 8,
   "id": "2856d3ac",
   "metadata": {},
   "outputs": [],
   "source": [
    "cv2.destroyAllWindows()"
   ]
  },
  {
   "cell_type": "code",
   "execution_count": null,
   "id": "75a9e109",
   "metadata": {},
   "outputs": [],
   "source": []
  }
 ],
 "metadata": {
  "kernelspec": {
   "display_name": "Python 3 (ipykernel)",
   "language": "python",
   "name": "python3"
  },
  "language_info": {
   "codemirror_mode": {
    "name": "ipython",
    "version": 3
   },
   "file_extension": ".py",
   "mimetype": "text/x-python",
   "name": "python",
   "nbconvert_exporter": "python",
   "pygments_lexer": "ipython3",
   "version": "3.9.12"
  }
 },
 "nbformat": 4,
 "nbformat_minor": 5
}
