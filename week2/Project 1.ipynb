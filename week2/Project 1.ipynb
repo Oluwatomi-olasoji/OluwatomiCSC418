{
 "cells": [
  {
   "cell_type": "code",
   "execution_count": 1,
   "id": "b495031c",
   "metadata": {},
   "outputs": [],
   "source": [
    "import cv2"
   ]
  },
  {
   "cell_type": "code",
   "execution_count": 2,
   "id": "e4ca049b",
   "metadata": {},
   "outputs": [],
   "source": [
    "import os"
   ]
  },
  {
   "cell_type": "code",
   "execution_count": 3,
   "id": "8a5d1b0e",
   "metadata": {},
   "outputs": [
    {
     "name": "stdout",
     "output_type": "stream",
     "text": [
      "Welcome! Please enter your username:enase\n"
     ]
    }
   ],
   "source": [
    "username = input(\"Welcome! Please enter your username:\").strip()"
   ]
  },
  {
   "cell_type": "code",
   "execution_count": 4,
   "id": "68f02f04",
   "metadata": {},
   "outputs": [
    {
     "name": "stdout",
     "output_type": "stream",
     "text": [
      "Please enter your password: 7\n"
     ]
    }
   ],
   "source": [
    "password = int(input(\"Please enter your password: \").strip())"
   ]
  },
  {
   "cell_type": "code",
   "execution_count": 5,
   "id": "bd2dce82",
   "metadata": {},
   "outputs": [],
   "source": [
    "if (username.lower() == \"enase\"  and password == 7):\n",
    "    path =r\"C:\\Users\\telol\\Documents\\CSC418 Projects\\img\\enase-okonedo.jpg\"\n",
    "elif (username.lower() == \"adaora\"  and password == 5):\n",
    "    path = \"img/enase-okonedo.jpg\"\n",
    "elif (username.lower() == \"sola\"  and password == 3):\n",
    "    path = \"img/Sola-Oni.jpg\"\n",
    "else:\n",
    "    path = None"
   ]
  },
  {
   "cell_type": "code",
   "execution_count": 8,
   "id": "bfe611b0",
   "metadata": {},
   "outputs": [],
   "source": [
    "img_bgr = cv2.imread(path,0)\n",
    "img = cv2.cvtColor(img_bgr, cv2.COLOR_BGR2RGB)"
   ]
  },
  {
   "cell_type": "code",
   "execution_count": 9,
   "id": "3c59a696",
   "metadata": {},
   "outputs": [],
   "source": [
    "scaled_img = cv2.resize(img,None, fx=0.25, fy = 0.25)"
   ]
  },
  {
   "cell_type": "code",
   "execution_count": 11,
   "id": "e25c2521",
   "metadata": {},
   "outputs": [],
   "source": [
    "cv2.imshow(\"window\",scaled_img)"
   ]
  },
  {
   "cell_type": "code",
   "execution_count": null,
   "id": "1cf081c6",
   "metadata": {},
   "outputs": [],
   "source": [
    "if cv2.waitkey(0) & 0xff ==2"
   ]
  }
 ],
 "metadata": {
  "kernelspec": {
   "display_name": "Python 3 (ipykernel)",
   "language": "python",
   "name": "python3"
  },
  "language_info": {
   "codemirror_mode": {
    "name": "ipython",
    "version": 3
   },
   "file_extension": ".py",
   "mimetype": "text/x-python",
   "name": "python",
   "nbconvert_exporter": "python",
   "pygments_lexer": "ipython3",
   "version": "3.9.12"
  }
 },
 "nbformat": 4,
 "nbformat_minor": 5
}
