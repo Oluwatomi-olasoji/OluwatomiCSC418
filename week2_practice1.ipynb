{
 "cells": [
  {
   "cell_type": "code",
   "execution_count": 1,
   "id": "cc468883",
   "metadata": {},
   "outputs": [],
   "source": [
    "import cv2"
   ]
  },
  {
   "cell_type": "code",
   "execution_count": 12,
   "id": "8c6b8b55",
   "metadata": {},
   "outputs": [],
   "source": [
    "image = cv2.imread('img/rgb.jpg')"
   ]
  },
  {
   "cell_type": "code",
   "execution_count": 13,
   "id": "924b8d3d",
   "metadata": {},
   "outputs": [],
   "source": [
    "B, G, R = cv2.split(image)"
   ]
  },
  {
   "cell_type": "code",
   "execution_count": null,
   "id": "28b2fc81",
   "metadata": {},
   "outputs": [],
   "source": [
    "cv2.imshow(\"original\",image)\n",
    "cv2.waitKey(0)"
   ]
  },
  {
   "cell_type": "code",
   "execution_count": null,
   "id": "aebce12a",
   "metadata": {},
   "outputs": [],
   "source": [
    "cv2.imshow(\"blue\", B)\n",
    "cv2.waitKey(0)"
   ]
  },
  {
   "cell_type": "code",
   "execution_count": null,
   "id": "35f175d7",
   "metadata": {},
   "outputs": [],
   "source": [
    "cv2.imshow(\"Green\", G)\n",
    "cv2.waitKey(0)"
   ]
  },
  {
   "cell_type": "code",
   "execution_count": null,
   "id": "69ded321",
   "metadata": {},
   "outputs": [],
   "source": [
    "cv2.imshow(\"red\",R)\n",
    "cv2.waitKey(0)"
   ]
  },
  {
   "cell_type": "code",
   "execution_count": null,
   "id": "c08099f8",
   "metadata": {},
   "outputs": [],
   "source": [
    "cv2.destroyAllWindows()"
   ]
  },
  {
   "cell_type": "code",
   "execution_count": null,
   "id": "168c3a62",
   "metadata": {},
   "outputs": [],
   "source": []
  }
 ],
 "metadata": {
  "kernelspec": {
   "display_name": "Python 3 (ipykernel)",
   "language": "python",
   "name": "python3"
  },
  "language_info": {
   "codemirror_mode": {
    "name": "ipython",
    "version": 3
   },
   "file_extension": ".py",
   "mimetype": "text/x-python",
   "name": "python",
   "nbconvert_exporter": "python",
   "pygments_lexer": "ipython3",
   "version": "3.9.12"
  }
 },
 "nbformat": 4,
 "nbformat_minor": 5
}
