{
 "cells": [
  {
   "cell_type": "code",
   "execution_count": 1,
   "id": "3d9b5f0a",
   "metadata": {},
   "outputs": [],
   "source": [
    "import cv2"
   ]
  },
  {
   "cell_type": "code",
   "execution_count": 2,
   "id": "812f18f1",
   "metadata": {},
   "outputs": [],
   "source": [
    "import os"
   ]
  },
  {
   "cell_type": "code",
   "execution_count": 8,
   "id": "d901df97",
   "metadata": {},
   "outputs": [],
   "source": [
    "image_path = r'C:\\Users\\telol\\Documents\\CSC418 Projects\\img\\download.jpg'"
   ]
  },
  {
   "cell_type": "code",
   "execution_count": 6,
   "id": "79c6a50d",
   "metadata": {},
   "outputs": [],
   "source": [
    "directory = r'C:\\Users\\telol\\Documents\\CSC418 Projects\\img'"
   ]
  },
  {
   "cell_type": "code",
   "execution_count": 9,
   "id": "19f64ac8",
   "metadata": {},
   "outputs": [],
   "source": [
    "img = cv2.imread(image_path,0)"
   ]
  },
  {
   "cell_type": "code",
   "execution_count": 10,
   "id": "9c632862",
   "metadata": {},
   "outputs": [],
   "source": [
    "os.chdir(directory)"
   ]
  },
  {
   "cell_type": "code",
   "execution_count": 11,
   "id": "6122f7f1",
   "metadata": {},
   "outputs": [
    {
     "name": "stdout",
     "output_type": "stream",
     "text": [
      "Before saving image: \n",
      "['download.jpg']\n"
     ]
    }
   ],
   "source": [
    "print(\"Before saving image: \")\n",
    "print(os.listdir(directory))"
   ]
  },
  {
   "cell_type": "code",
   "execution_count": 12,
   "id": "3f305ce8",
   "metadata": {},
   "outputs": [],
   "source": [
    "filename = 'grayImage.jpg'"
   ]
  },
  {
   "cell_type": "code",
   "execution_count": 13,
   "id": "7051617d",
   "metadata": {},
   "outputs": [
    {
     "data": {
      "text/plain": [
       "True"
      ]
     },
     "execution_count": 13,
     "metadata": {},
     "output_type": "execute_result"
    }
   ],
   "source": [
    "cv2.imwrite(filename,img)"
   ]
  },
  {
   "cell_type": "code",
   "execution_count": 15,
   "id": "f129f542",
   "metadata": {},
   "outputs": [
    {
     "name": "stdout",
     "output_type": "stream",
     "text": [
      "After saving image:\n",
      "['download.jpg', 'grayImage.jpg']\n"
     ]
    }
   ],
   "source": [
    "print(\"After saving image:\")\n",
    "print(os.listdir(directory))"
   ]
  },
  {
   "cell_type": "code",
   "execution_count": 16,
   "id": "17eadd58",
   "metadata": {},
   "outputs": [
    {
     "name": "stdout",
     "output_type": "stream",
     "text": [
      "Successfully saved\n"
     ]
    }
   ],
   "source": [
    "print('Successfully saved')"
   ]
  },
  {
   "cell_type": "code",
   "execution_count": null,
   "id": "231d1b80",
   "metadata": {},
   "outputs": [],
   "source": []
  }
 ],
 "metadata": {
  "kernelspec": {
   "display_name": "Python 3 (ipykernel)",
   "language": "python",
   "name": "python3"
  },
  "language_info": {
   "codemirror_mode": {
    "name": "ipython",
    "version": 3
   },
   "file_extension": ".py",
   "mimetype": "text/x-python",
   "name": "python",
   "nbconvert_exporter": "python",
   "pygments_lexer": "ipython3",
   "version": "3.9.12"
  }
 },
 "nbformat": 4,
 "nbformat_minor": 5
}
