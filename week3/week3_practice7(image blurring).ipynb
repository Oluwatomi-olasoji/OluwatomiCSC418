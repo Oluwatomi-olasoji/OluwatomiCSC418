{
 "cells": [
  {
   "cell_type": "code",
   "execution_count": 6,
   "id": "6eafc3f6",
   "metadata": {},
   "outputs": [],
   "source": [
    "\n",
    "import cv2\n",
    "\n",
    "\n",
    "image = cv2.imread ( 'img/grayImage.jpg' )\n",
    "\n",
    "\n",
    "cv2.imshow ( 'Original Image' , image )\n",
    "\n",
    "cv2.waitKey ( 0 )\n",
    "\n",
    "\n",
    "# Gaussian Blur\n",
    "Gaussian = cv2.GaussianBlur ( image , ( 7 , 7 ) , 0 )\n",
    "\n",
    "cv2.imshow ( 'Gaussian Blurring' , Gaussian )\n",
    "cv2.waitKey ( 0 )\n",
    "\n",
    "\n",
    "# Median Blur\n",
    "\n",
    "median = cv2.medianBlur ( image , 5 )\n",
    "cv2.imshow ( 'Median Blurring' , median )\n",
    "\n",
    "cv2.waitKey ( 0 )\n",
    "\n",
    "\n",
    "\n",
    "# Bilateral Blur\n",
    "\n",
    "bilateral = cv2.bilateralFilter ( image , 9 , 75 , 75 )\n",
    "cv2.imshow ( 'Bilateral Blurring' , bilateral )\n",
    "\n",
    "cv2.waitKey ( 0 )\n",
    "cv2.destroyAllWindows ( )"
   ]
  },
  {
   "cell_type": "code",
   "execution_count": null,
   "id": "d753f9af",
   "metadata": {},
   "outputs": [],
   "source": []
  },
  {
   "cell_type": "code",
   "execution_count": null,
   "id": "a9972175",
   "metadata": {},
   "outputs": [],
   "source": []
  }
 ],
 "metadata": {
  "kernelspec": {
   "display_name": "Python 3 (ipykernel)",
   "language": "python",
   "name": "python3"
  },
  "language_info": {
   "codemirror_mode": {
    "name": "ipython",
    "version": 3
   },
   "file_extension": ".py",
   "mimetype": "text/x-python",
   "name": "python",
   "nbconvert_exporter": "python",
   "pygments_lexer": "ipython3",
   "version": "3.9.12"
  }
 },
 "nbformat": 4,
 "nbformat_minor": 5
}
